{
 "cells": [
  {
   "cell_type": "code",
   "execution_count": 93,
   "metadata": {},
   "outputs": [
    {
     "name": "stdout",
     "output_type": "stream",
     "text": [
      "127.87498365109822\n"
     ]
    }
   ],
   "source": [
    "import numpy as np\n",
    "\n",
    "a = np.array([5, 1])\n",
    "b = np.array([3,4])\n",
    "c = np.array([5,10])\n",
    "\n",
    "ba = a - b\n",
    "bc = c - b\n",
    "\n",
    "cosine_angle = np.dot(ba, bc) / (np.linalg.norm(ba) * np.linalg.norm(bc))\n",
    "angle = np.arccos(cosine_angle)\n",
    "angle = np.degrees(angle)\n",
    "print(angle)"
   ]
  },
  {
   "cell_type": "code",
   "execution_count": 4,
   "metadata": {},
   "outputs": [
    {
     "name": "stdout",
     "output_type": "stream",
     "text": [
      "90.0\n"
     ]
    }
   ],
   "source": [
    "import numpy as np\n",
    "\n",
    "a = np.array([0, 0])\n",
    "b = np.array([1,0])\n",
    "c = np.array([1,1])\n",
    "\n",
    "ba = a - b\n",
    "bc = c - b\n",
    "\n",
    "cosine_angle = np.dot(ba, bc) / (np.linalg.norm(ba) * np.linalg.norm(bc))\n",
    "angle = np.arccos(cosine_angle)\n",
    "\n",
    "print(np.degrees(angle))"
   ]
  },
  {
   "cell_type": "code",
   "execution_count": 28,
   "metadata": {},
   "outputs": [
    {
     "name": "stdout",
     "output_type": "stream",
     "text": [
      "[7, 5, 10, 2, 8, 11, 31, 26, 24, 15]\n",
      "[2, 5, 7, 10, 8, 11, 31, 26, 24, 15]\n",
      "[2, 5, 7, 10, 8, 11, 31, 26, 24, 15]\n",
      "[2, 5, 7, 8, 10, 11, 31, 26, 24, 15]\n",
      "[2, 5, 7, 8, 10, 11, 15, 26, 24, 31]\n",
      "[2, 5, 7, 8, 10, 11, 15, 26, 24, 31]\n",
      "[2, 5, 7, 8, 10, 11, 15, 24, 26, 31]\n",
      "[2, 5, 7, 8, 10, 11, 15, 24, 26, 31]\n"
     ]
    }
   ],
   "source": [
    "a = [11,5,24,2,31,7,8,26,10,15]\n",
    "quicksort(a,0,9)\n",
    "print(a)"
   ]
  },
  {
   "cell_type": "code",
   "execution_count": 76,
   "metadata": {},
   "outputs": [],
   "source": [
    "convex = []\n",
    "x = [0,0]\n",
    "y = [2,0]\n",
    "z = [1,1]\n",
    "w = [2,2]\n",
    "j = [0,2]\n",
    "seq = [x,y,z,w,j]"
   ]
  },
  {
   "cell_type": "code",
   "execution_count": 77,
   "metadata": {},
   "outputs": [
    {
     "name": "stdout",
     "output_type": "stream",
     "text": [
      "2\n",
      "-2\n",
      "4\n",
      "4\n",
      "4\n",
      "[[2, 0], [2, 2], [0, 2], [0, 0]]\n"
     ]
    }
   ],
   "source": [
    "GrahamScan(seq,convex)\n",
    "print(convex)"
   ]
  },
  {
   "cell_type": "code",
   "execution_count": 107,
   "metadata": {},
   "outputs": [
    {
     "ename": "ValueError",
     "evalue": "[0, 0] is not in list",
     "output_type": "error",
     "traceback": [
      "\u001b[1;31m---------------------------------------------------------------------------\u001b[0m",
      "\u001b[1;31mValueError\u001b[0m                                Traceback (most recent call last)",
      "\u001b[1;32m<ipython-input-107-86e9fd006e13>\u001b[0m in \u001b[0;36m<module>\u001b[1;34m()\u001b[0m\n\u001b[0;32m     17\u001b[0m \u001b[1;31m#####\u001b[0m\u001b[1;33m\u001b[0m\u001b[1;33m\u001b[0m\u001b[0m\n\u001b[0;32m     18\u001b[0m \u001b[0manswer\u001b[0m \u001b[1;33m=\u001b[0m \u001b[1;33m[\u001b[0m\u001b[1;33m]\u001b[0m\u001b[1;33m\u001b[0m\u001b[0m\n\u001b[1;32m---> 19\u001b[1;33m \u001b[0manswer\u001b[0m \u001b[1;33m=\u001b[0m \u001b[0mconvexHull\u001b[0m\u001b[1;33m(\u001b[0m\u001b[0mpointList\u001b[0m\u001b[1;33m)\u001b[0m\u001b[1;33m\u001b[0m\u001b[0m\n\u001b[0m\u001b[0;32m     20\u001b[0m \u001b[0mprint\u001b[0m\u001b[1;33m(\u001b[0m\u001b[0manswer\u001b[0m\u001b[1;33m)\u001b[0m\u001b[1;33m\u001b[0m\u001b[0m\n",
      "\u001b[1;32m<ipython-input-100-9c0d57ef1970>\u001b[0m in \u001b[0;36mconvexHull\u001b[1;34m(pointList)\u001b[0m\n\u001b[0;32m     10\u001b[0m         \u001b[1;31m# find the medians\u001b[0m\u001b[1;33m\u001b[0m\u001b[1;33m\u001b[0m\u001b[0m\n\u001b[0;32m     11\u001b[0m         \u001b[0mquicksort\u001b[0m\u001b[1;33m(\u001b[0m\u001b[0mpointList\u001b[0m\u001b[1;33m,\u001b[0m\u001b[1;36m0\u001b[0m\u001b[1;33m,\u001b[0m\u001b[0mlength\u001b[0m\u001b[1;33m-\u001b[0m\u001b[1;36m1\u001b[0m\u001b[1;33m)\u001b[0m  \u001b[1;31m# remember the   length - 1\u001b[0m\u001b[1;33m\u001b[0m\u001b[0m\n\u001b[1;32m---> 12\u001b[1;33m         \u001b[0mconvexRight\u001b[0m \u001b[1;33m=\u001b[0m \u001b[0mconvexHull\u001b[0m\u001b[1;33m(\u001b[0m\u001b[0mpointList\u001b[0m\u001b[1;33m[\u001b[0m\u001b[1;33m:\u001b[0m\u001b[0mint\u001b[0m\u001b[1;33m(\u001b[0m\u001b[0mlen\u001b[0m\u001b[1;33m(\u001b[0m\u001b[0mpointList\u001b[0m\u001b[1;33m)\u001b[0m\u001b[1;33m/\u001b[0m\u001b[1;36m2\u001b[0m\u001b[1;33m)\u001b[0m\u001b[1;33m]\u001b[0m\u001b[1;33m)\u001b[0m\u001b[1;33m\u001b[0m\u001b[0m\n\u001b[0m\u001b[0;32m     13\u001b[0m         \u001b[0mconvexLeft\u001b[0m \u001b[1;33m=\u001b[0m \u001b[0mconvexHull\u001b[0m\u001b[1;33m(\u001b[0m\u001b[0mpointList\u001b[0m\u001b[1;33m[\u001b[0m\u001b[0mint\u001b[0m\u001b[1;33m(\u001b[0m\u001b[0mlen\u001b[0m\u001b[1;33m(\u001b[0m\u001b[0mpointList\u001b[0m\u001b[1;33m)\u001b[0m\u001b[1;33m/\u001b[0m\u001b[1;36m2\u001b[0m\u001b[1;33m)\u001b[0m\u001b[1;33m:\u001b[0m\u001b[1;33m]\u001b[0m\u001b[1;33m)\u001b[0m\u001b[1;33m\u001b[0m\u001b[0m\n\u001b[0;32m     14\u001b[0m         \u001b[0mconvex\u001b[0m \u001b[1;33m=\u001b[0m \u001b[0mmerge\u001b[0m\u001b[1;33m(\u001b[0m\u001b[0mconvexLeft\u001b[0m\u001b[1;33m,\u001b[0m\u001b[0mconvexRight\u001b[0m\u001b[1;33m)\u001b[0m\u001b[1;33m\u001b[0m\u001b[0m\n",
      "\u001b[1;32m<ipython-input-100-9c0d57ef1970>\u001b[0m in \u001b[0;36mconvexHull\u001b[1;34m(pointList)\u001b[0m\n\u001b[0;32m     10\u001b[0m         \u001b[1;31m# find the medians\u001b[0m\u001b[1;33m\u001b[0m\u001b[1;33m\u001b[0m\u001b[0m\n\u001b[0;32m     11\u001b[0m         \u001b[0mquicksort\u001b[0m\u001b[1;33m(\u001b[0m\u001b[0mpointList\u001b[0m\u001b[1;33m,\u001b[0m\u001b[1;36m0\u001b[0m\u001b[1;33m,\u001b[0m\u001b[0mlength\u001b[0m\u001b[1;33m-\u001b[0m\u001b[1;36m1\u001b[0m\u001b[1;33m)\u001b[0m  \u001b[1;31m# remember the   length - 1\u001b[0m\u001b[1;33m\u001b[0m\u001b[0m\n\u001b[1;32m---> 12\u001b[1;33m         \u001b[0mconvexRight\u001b[0m \u001b[1;33m=\u001b[0m \u001b[0mconvexHull\u001b[0m\u001b[1;33m(\u001b[0m\u001b[0mpointList\u001b[0m\u001b[1;33m[\u001b[0m\u001b[1;33m:\u001b[0m\u001b[0mint\u001b[0m\u001b[1;33m(\u001b[0m\u001b[0mlen\u001b[0m\u001b[1;33m(\u001b[0m\u001b[0mpointList\u001b[0m\u001b[1;33m)\u001b[0m\u001b[1;33m/\u001b[0m\u001b[1;36m2\u001b[0m\u001b[1;33m)\u001b[0m\u001b[1;33m]\u001b[0m\u001b[1;33m)\u001b[0m\u001b[1;33m\u001b[0m\u001b[0m\n\u001b[0m\u001b[0;32m     13\u001b[0m         \u001b[0mconvexLeft\u001b[0m \u001b[1;33m=\u001b[0m \u001b[0mconvexHull\u001b[0m\u001b[1;33m(\u001b[0m\u001b[0mpointList\u001b[0m\u001b[1;33m[\u001b[0m\u001b[0mint\u001b[0m\u001b[1;33m(\u001b[0m\u001b[0mlen\u001b[0m\u001b[1;33m(\u001b[0m\u001b[0mpointList\u001b[0m\u001b[1;33m)\u001b[0m\u001b[1;33m/\u001b[0m\u001b[1;36m2\u001b[0m\u001b[1;33m)\u001b[0m\u001b[1;33m:\u001b[0m\u001b[1;33m]\u001b[0m\u001b[1;33m)\u001b[0m\u001b[1;33m\u001b[0m\u001b[0m\n\u001b[0;32m     14\u001b[0m         \u001b[0mconvex\u001b[0m \u001b[1;33m=\u001b[0m \u001b[0mmerge\u001b[0m\u001b[1;33m(\u001b[0m\u001b[0mconvexLeft\u001b[0m\u001b[1;33m,\u001b[0m\u001b[0mconvexRight\u001b[0m\u001b[1;33m)\u001b[0m\u001b[1;33m\u001b[0m\u001b[0m\n",
      "\u001b[1;32m<ipython-input-100-9c0d57ef1970>\u001b[0m in \u001b[0;36mconvexHull\u001b[1;34m(pointList)\u001b[0m\n\u001b[0;32m      5\u001b[0m \u001b[1;32mdef\u001b[0m \u001b[0mconvexHull\u001b[0m\u001b[1;33m(\u001b[0m\u001b[0mpointList\u001b[0m\u001b[1;33m)\u001b[0m\u001b[1;33m:\u001b[0m\u001b[1;33m\u001b[0m\u001b[0m\n\u001b[0;32m      6\u001b[0m     \u001b[1;32mif\u001b[0m\u001b[1;33m(\u001b[0m\u001b[0mlen\u001b[0m\u001b[1;33m(\u001b[0m\u001b[0mpointList\u001b[0m\u001b[1;33m)\u001b[0m\u001b[1;33m<=\u001b[0m\u001b[0mThreshold\u001b[0m\u001b[1;33m)\u001b[0m\u001b[1;33m:\u001b[0m\u001b[1;33m\u001b[0m\u001b[0m\n\u001b[1;32m----> 7\u001b[1;33m         \u001b[0mconvex\u001b[0m \u001b[1;33m=\u001b[0m \u001b[0mGrahamScan\u001b[0m\u001b[1;33m(\u001b[0m\u001b[0mpointList\u001b[0m\u001b[1;33m)\u001b[0m\u001b[1;33m\u001b[0m\u001b[0m\n\u001b[0m\u001b[0;32m      8\u001b[0m         \u001b[1;32mreturn\u001b[0m \u001b[0mconvex\u001b[0m\u001b[1;33m\u001b[0m\u001b[0m\n\u001b[0;32m      9\u001b[0m     \u001b[1;32melse\u001b[0m\u001b[1;33m:\u001b[0m\u001b[1;33m\u001b[0m\u001b[0m\n",
      "\u001b[1;32m<ipython-input-104-85083ed652a9>\u001b[0m in \u001b[0;36mGrahamScan\u001b[1;34m(seq)\u001b[0m\n\u001b[0;32m      6\u001b[0m     \u001b[0mlength\u001b[0m \u001b[1;33m=\u001b[0m \u001b[0mlen\u001b[0m\u001b[1;33m(\u001b[0m\u001b[0mseq\u001b[0m\u001b[1;33m)\u001b[0m\u001b[1;33m\u001b[0m\u001b[0m\n\u001b[0;32m      7\u001b[0m     \u001b[1;32mfor\u001b[0m \u001b[0mr\u001b[0m \u001b[1;32min\u001b[0m \u001b[0mseq\u001b[0m\u001b[1;33m:\u001b[0m\u001b[1;33m\u001b[0m\u001b[0m\n\u001b[1;32m----> 8\u001b[1;33m         \u001b[1;32mwhile\u001b[0m\u001b[1;33m(\u001b[0m\u001b[0morientation\u001b[0m\u001b[1;33m(\u001b[0m\u001b[0mr\u001b[0m\u001b[1;33m,\u001b[0m\u001b[0mseq\u001b[0m\u001b[1;33m[\u001b[0m\u001b[1;33m(\u001b[0m\u001b[0mseq\u001b[0m\u001b[1;33m.\u001b[0m\u001b[0mindex\u001b[0m\u001b[1;33m(\u001b[0m\u001b[0mr\u001b[0m\u001b[1;33m)\u001b[0m \u001b[1;33m+\u001b[0m \u001b[1;36m1\u001b[0m\u001b[1;33m)\u001b[0m \u001b[1;33m%\u001b[0m \u001b[0mlength\u001b[0m\u001b[1;33m]\u001b[0m\u001b[1;33m,\u001b[0m\u001b[0mseq\u001b[0m\u001b[1;33m[\u001b[0m\u001b[1;33m(\u001b[0m\u001b[0mseq\u001b[0m\u001b[1;33m.\u001b[0m\u001b[0mindex\u001b[0m\u001b[1;33m(\u001b[0m\u001b[0mr\u001b[0m\u001b[1;33m)\u001b[0m \u001b[1;33m+\u001b[0m \u001b[1;36m2\u001b[0m \u001b[1;33m)\u001b[0m\u001b[1;33m%\u001b[0m \u001b[0mlength\u001b[0m\u001b[1;33m]\u001b[0m\u001b[1;33m)\u001b[0m \u001b[1;33m<=\u001b[0m \u001b[1;36m0\u001b[0m\u001b[1;33m)\u001b[0m\u001b[1;33m:\u001b[0m\u001b[1;33m\u001b[0m\u001b[0m\n\u001b[0m\u001b[0;32m      9\u001b[0m             \u001b[0mseq\u001b[0m\u001b[1;33m.\u001b[0m\u001b[0mremove\u001b[0m\u001b[1;33m(\u001b[0m\u001b[0mseq\u001b[0m\u001b[1;33m[\u001b[0m\u001b[1;33m(\u001b[0m\u001b[0mseq\u001b[0m\u001b[1;33m.\u001b[0m\u001b[0mindex\u001b[0m\u001b[1;33m(\u001b[0m\u001b[0mr\u001b[0m\u001b[1;33m)\u001b[0m \u001b[1;33m+\u001b[0m \u001b[1;36m1\u001b[0m\u001b[1;33m)\u001b[0m \u001b[1;33m%\u001b[0m \u001b[0mlength\u001b[0m\u001b[1;33m]\u001b[0m\u001b[1;33m)\u001b[0m\u001b[1;33m\u001b[0m\u001b[0m\n\u001b[0;32m     10\u001b[0m             \u001b[0mlength\u001b[0m \u001b[1;33m=\u001b[0m \u001b[0mlen\u001b[0m\u001b[1;33m(\u001b[0m\u001b[0mseq\u001b[0m\u001b[1;33m)\u001b[0m\u001b[1;33m\u001b[0m\u001b[0m\n",
      "\u001b[1;31mValueError\u001b[0m: [0, 0] is not in list"
     ]
    }
   ],
   "source": [
    "import numpy as np\n",
    "import math\n",
    "\n",
    "f = open(r'test1.txt','r')\n",
    "content = f.read()   \n",
    "lines = content.splitlines() # use line to split \n",
    "\n",
    "# put all point to the list\n",
    "pointList = []\n",
    "for line in lines:\n",
    "    point = line.split()\n",
    "    sample = []\n",
    "    for axis in point:\n",
    "        sample.append(int(axis))\n",
    "    pointList.append(sample)\n",
    "\n",
    "#####\n",
    "answer = []\n",
    "answer = convexHull(pointList)\n",
    "print(answer)\n",
    "\n"
   ]
  },
  {
   "cell_type": "code",
   "execution_count": 108,
   "metadata": {},
   "outputs": [],
   "source": [
    "Threshold = 5\n",
    "def getfirst(lst):\n",
    "    return lst[0]\n",
    "\n",
    "def convexHull(pointList):\n",
    "    if(len(pointList)<=Threshold):\n",
    "        convex = GrahamScan(pointList)\n",
    "        return convex\n",
    "    else:\n",
    "        # find the medians\n",
    "        quicksort(pointList,0,length-1)  # remember the   length - 1\n",
    "        convexRight = convexHull(pointList[:int(len(pointList)/2)])\n",
    "        convexLeft = convexHull(pointList[int(len(pointList)/2):])\n",
    "        print(convexRight)\n",
    "        print(convexLeft)\n",
    "        convex = merge(convexLeft,convexRight)\n",
    "        return convex\n",
    "        \n",
    "def merge(convexLeft,convexRight):\n",
    "    \n",
    "    # find the interior point \n",
    "    xSum = 0\n",
    "    ySum = 0\n",
    "    convexhull = []\n",
    "    for i in range(0,len(convexLeft)):\n",
    "        xSum = xSum + convexLeft[i][0]\n",
    "        ySum = ySum + convexLeft[i][1]\n",
    "    \n",
    "    interX = xSum/len(convexLeft)\n",
    "    interY = ySum/len(convexLeft)\n",
    "    ###\n",
    "    \n",
    "    point = []\n",
    "    for each in convexLeft:\n",
    "        point.append(each)\n",
    "    for each in convexRight:\n",
    "        point.append(each)\n",
    "    # Calculate each polar angle from interior point \n",
    "    polarAngle = []\n",
    "    \n",
    "    for i in range(0,len(point)):\n",
    "        ba = point[i][0] - interX\n",
    "        bc = point[i][1] - interY\n",
    "\n",
    "        cosine_angle = np.dot(ba, bc) / (np.linalg.norm(ba) * np.linalg.norm(bc))\n",
    "        angle = np.arccos(cosine_angle)\n",
    "        angle = np.degrees(angle)\n",
    "\n",
    "        if(ba <=0 and bc >=0 ):\n",
    "            angle = 180-angle\n",
    "        elif(ba <= 0 and bc <=0 ):\n",
    "            angle = 180+angle\n",
    "        elif(ba >= 0 and bc <= 0):\n",
    "            angle = 360-angle\n",
    "\n",
    "        distance = math.sqrt(ba*ba+bc*bc)\n",
    "        polarAngle.append([int(angle),distance])\n",
    "        \n",
    "    polarAngle.sort(cmp=None, key=getfirst, reverse=False)\n",
    "    convexhull = GrahamScan(polarAngle)\n",
    "    return convexhull"
   ]
  },
  {
   "cell_type": "code",
   "execution_count": 104,
   "metadata": {},
   "outputs": [],
   "source": [
    "\n",
    "def GrahamScan(seq):\n",
    "    convex = []\n",
    "    \n",
    "    # check which point is on the convex hull\n",
    "    length = len(seq)\n",
    "    for r in seq:\n",
    "        while(orientation(r,seq[(seq.index(r) + 1) % length],seq[(seq.index(r) + 2 )% length]) <= 0):\n",
    "            seq.remove(seq[(seq.index(r) + 1) % length])\n",
    "            length = len(seq)\n",
    "        convex.append(seq[(seq.index(r) + 1) % length])\n",
    "    \n",
    "    return convex # return the point list\n",
    "\n",
    "# check orientation\n",
    "def orientation(a,b,c):\n",
    "    det = a[0]*b[1] + b[0]*c[1] + c[0]*a[1] - c[0]*b[1] - a[0]*c[1] - b[0]*a[1]\n",
    "    return det"
   ]
  },
  {
   "cell_type": "code",
   "execution_count": 103,
   "metadata": {},
   "outputs": [],
   "source": [
    "def partition(lst,start,end):\n",
    "    pivot = lst[start][0]\n",
    "    i = start\n",
    "    j = end \n",
    "    while i <= j:\n",
    "        while(i<=end)and(lst[i][0] <= pivot):\n",
    "            i = i + 1\n",
    "            if(i == end+1):   # avoid i out of index \n",
    "                break\n",
    "                \n",
    "        while(j>start)and (lst[j][0] >= pivot):\n",
    "            j = j -1 \n",
    "            if(j == start): # avoid j out of index\n",
    "                break\n",
    "                \n",
    "        if(i <= j):\n",
    "            lst[i][0],lst[j][0] = lst[j][0],lst[i][0]\n",
    "            \n",
    "    lst[j][0],lst[start][0] = lst[start][0],lst[j][0] \n",
    "    \n",
    "    return j\n",
    "        \n",
    "    \n",
    "def quicksort(lst,start,end):\n",
    "    if(start<end):\n",
    "        pos = partition(lst,start,end)\n",
    "        quicksort(lst,start,pos-1)\n",
    "        quicksort(lst,pos+1,end)\n",
    "        "
   ]
  },
  {
   "cell_type": "code",
   "execution_count": null,
   "metadata": {},
   "outputs": [],
   "source": []
  }
 ],
 "metadata": {
  "kernelspec": {
   "display_name": "Python 3",
   "language": "python",
   "name": "python3"
  },
  "language_info": {
   "codemirror_mode": {
    "name": "ipython",
    "version": 3
   },
   "file_extension": ".py",
   "mimetype": "text/x-python",
   "name": "python",
   "nbconvert_exporter": "python",
   "pygments_lexer": "ipython3",
   "version": "3.6.5"
  }
 },
 "nbformat": 4,
 "nbformat_minor": 2
}
